{
 "cells": [
  {
   "cell_type": "code",
   "execution_count": 1,
   "id": "294d474f-38dc-4efd-af88-f717805d756b",
   "metadata": {},
   "outputs": [],
   "source": [
    "using Geant4\n",
    "using Geant4.SystemOfUnits\n",
    "#using GLMakie, Rotations, IGLWrap_jll  # to force loding G4Vis extension\n",
    "using CairoMakie\n",
    "using GeometryBasics, Rotations, IGLWrap_jll"
   ]
  },
  {
   "cell_type": "code",
   "execution_count": 2,
   "id": "fc5542f3-14de-4ff8-9059-3c01b414edef",
   "metadata": {},
   "outputs": [],
   "source": [
    "mutable struct CrstDetector <: G4JLDetector\n",
    "    # main input parameters\n",
    "    const checkOverlaps::Bool\n",
    "    const crstXY::Float64\n",
    "    const crstZ::Float64\n",
    "    const crstName::String\n",
    "    \n",
    "    fCrstMaterial::CxxPtr{G4Material}\n",
    "    fWrldMaterial::CxxPtr{G4Material}\n",
    "    \n",
    "    function CrstDetector(;  crstXY::Float64=3.5mm, \n",
    "                             crstZ::Float64=20.0mm,\n",
    "                             checkOverlaps::Bool=true,\n",
    "                             crstName=\"CsI\")\n",
    "        self =  new(checkOverlaps, crstXY, crstZ, crstName)\n",
    "        nist     = G4NistManager!Instance()\n",
    "        \n",
    "        self.fWrldMaterial  = FindOrBuildMaterial(nist, \"G4_AIR\")\n",
    "        if crstName == \"LYSO\"\n",
    "            cm3      = cm * cm * cm\n",
    "            self.fCrstMaterial = G4Material(\"lyso\", density= 7.4*g/cm3, ncomponents=4)\n",
    "            \n",
    "            Lu = FindOrBuildElement(nist,\"Lu\")\n",
    "            Si = FindOrBuildElement(nist,\"Si\")\n",
    "            O  = FindOrBuildElement(nist,\"O\")\n",
    "            Y  = FindOrBuildElement(nist,\"Y\")\n",
    "            AddElement(lyso, Lu, fractionmass=.71)\n",
    "            AddElement(lyso, Si, fractionmass=.07)\n",
    "            AddElement(lyso, O, fractionmass=.18)\n",
    "            AddElement(lyso, Y, fractionmass=.04)\n",
    "        elseif crstName == \"BGO\"\n",
    "            self.fCrstMaterial  = FindOrBuildMaterial(nist, \"G4_BGO\")\n",
    "        else\n",
    "            self.fCrstMaterial  = FindOrBuildMaterial(nist, \"G4_CESIUM_IODIDE\")\n",
    "        end\n",
    "            \n",
    "       return self \n",
    "    end\n",
    "end"
   ]
  },
  {
   "cell_type": "code",
   "execution_count": 3,
   "id": "de0da39a-b8db-4ea6-990a-81e8cd4b36b7",
   "metadata": {},
   "outputs": [
    {
     "data": {
      "text/plain": [
       "crstDetectorConstruction (generic function with 1 method)"
      ]
     },
     "execution_count": 3,
     "metadata": {},
     "output_type": "execute_result"
    }
   ],
   "source": [
    "function crstDetectorConstruction(det::CrstDetector)::CxxPtr{G4VPhysicalVolume}\n",
    "    (; checkOverlaps, crstXY, crstZ)  = det\n",
    "    crystBox = G4Box(\"CBox\", crstXY/2,crstXY/2,crstZ/2)\n",
    "\n",
    "    world_sizeXY = 2* crstXY\n",
    "    world_sizeZ  = 2* crstZ\n",
    "    \n",
    "    solidworld = G4Box(\"World\",  0.5*world_sizeXY, 0.5*world_sizeXY, 0.5*world_sizeZ)   \n",
    "    logicworld = G4LogicalVolume(move!(solidworld), det.fWrldMaterial, \"World\")\n",
    "    physWorld  = G4PVPlacement(nothing,          # no rotation\n",
    "                              G4ThreeVector(),  # at (0,0,0)\n",
    "                              logicworld,       # its logical volume\n",
    "                              \"World\",          # its name\n",
    "                              nothing,          # its mother volume\n",
    "                              false,            # no boolean operation\n",
    "                              0,                # copy number\n",
    "                              checkOverlaps)                # overlaps checking \n",
    "    # Crystal\n",
    "    solidcrst = G4Box(\"CRYSTAL\", 0.5 * crstXY, 0.5 * crstXY, 0.5 * crstZ)\n",
    "    logiccrst = G4LogicalVolume(CxxPtr(solidcrst), det.fCrstMaterial, \"CRYSTAL\")\n",
    "  \n",
    "    G4PVPlacement(nothing,           # no rotation\n",
    "                  G4ThreeVector(),   # at (0,0,0)\n",
    "                  logiccrst,          # its logical volume\n",
    "                  \"CRYSTAL\",            # its name\n",
    "                  logicworld,        # its mother  volume\n",
    "                  false,             # no boolean operation\n",
    "                  0,                 # copy number\n",
    "                  checkOverlaps)     # overlaps checking\n",
    "    \n",
    "    SetVisAttributes(logicworld, G4VisAttributes!GetInvisible())\n",
    "    SetVisAttributes(logiccrst, G4VisAttributes(G4Colour(1.0, 1.0, 0.0)))\n",
    "    \n",
    "    return physWorld              # return a pointer to the G4PhysicalVolume\n",
    "end"
   ]
  },
  {
   "cell_type": "code",
   "execution_count": 3,
   "id": "91002174-9857-4841-b3a2-70b327146f4e",
   "metadata": {},
   "outputs": [
    {
     "data": {
      "text/plain": [
       "lysoDetectorConstruction (generic function with 1 method)"
      ]
     },
     "execution_count": 3,
     "metadata": {},
     "output_type": "execute_result"
    }
   ],
   "source": [
    "function lysoDetectorConstruction(det::CrstDetector)::CxxPtr{G4VPhysicalVolume}\n",
    "    (; checkOverlaps, crstXY, crstZ)  = det\n",
    "\n",
    "    crystBox = G4Box(\"CBox\", crstXY/2,crstXY/2,crstZ/2)\n",
    "    #nist     = G4NistManager!Instance()\n",
    "    #cm3      = cm * cm * cm\n",
    "    #lyso = G4Material(\"lyso\", density= 7.4*g/cm3, ncomponents=4)\n",
    "    \n",
    "    #Lu = FindOrBuildElement(nist,\"Lu\")\n",
    "    #Si = FindOrBuildElement(nist,\"Si\")\n",
    "    #O  = FindOrBuildElement(nist,\"O\")\n",
    "    #Y  = FindOrBuildElement(nist,\"Y\")\n",
    "    #AddElement(lyso, Lu, fractionmass=.71)\n",
    "    #AddElement(lyso, Si, fractionmass=.07)\n",
    "    #AddElement(lyso, O, fractionmass=.18)\n",
    "    #AddElement(lyso, Y, fractionmass=.04)\n",
    "  \n",
    "    #air  = FindOrBuildMaterial(nist, \"G4_AIR\")\n",
    "\n",
    "    world_sizeXY = 2* crstXY\n",
    "    world_sizeZ  = 2* crstZ\n",
    "    \n",
    "    solidworld = G4Box(\"World\",  0.5*world_sizeXY, 0.5*world_sizeXY, 0.5*world_sizeZ)   \n",
    "    logicworld = G4LogicalVolume(move!(solidworld), det.fWrldMaterial, \"World\")\n",
    "    physWorld  = G4PVPlacement(nothing,          # no rotation\n",
    "                              G4ThreeVector(),  # at (0,0,0)\n",
    "                              logicworld,       # its logical volume\n",
    "                              \"World\",          # its name\n",
    "                              nothing,          # its mother volume\n",
    "                              false,            # no boolean operation\n",
    "                              0,                # copy number\n",
    "                              checkOverlaps)                # overlaps checking \n",
    "\n",
    "        \n",
    "    # Crystal\n",
    "    solidcrst = G4Box(\"LYSO\", 0.5 * crstXY, 0.5 * crstXY, 0.5 * crstZ)\n",
    "    logiccrst = G4LogicalVolume(CxxPtr(solidcrst), det.fCrstMaterial, \"LYSO\")\n",
    "  \n",
    "    G4PVPlacement(nothing,           # no rotation\n",
    "                  G4ThreeVector(),   # at (0,0,0)\n",
    "                  logiccrst,          # its logical volume\n",
    "                  \"LYSO\",            # its name\n",
    "                  logicworld,        # its mother  volume\n",
    "                  false,             # no boolean operation\n",
    "                  0,                 # copy number\n",
    "                  checkOverlaps)     # overlaps checking\n",
    "\n",
    "           \n",
    "\n",
    "    #SDz = 0.15*mm\n",
    "    #gap = 0.01*mm;\n",
    "  \n",
    "    #solidDetector = G4Box(\"SiPM\", 0.5 * crstXY, 0.5 * crstXY, SDz)\n",
    "\n",
    "    #logicDetector = G4LogicalVolume(move!(solidDetector), air, \"SiPM\")\n",
    "\n",
    "    #G4PVPlacement(nothing,           # no rotation\n",
    "    #              G4ThreeVector(0.,0.,0.5*crstZ + SDz + gap),\n",
    "     #             logicDetector,\n",
    "     #             \"SiPMR\",\n",
    "     #             logicworld,        # its mother  volume\n",
    "      #            false,             # no boolean operation\n",
    "     #             0,                 # copy number\n",
    "     #             checkOverlaps)     # overlaps checking\n",
    "  #  G4PVPlacement(nothing,           # no rotation\n",
    "   #               G4ThreeVector(0.,0.,-0.5*crstZ - SDz - gap),\n",
    "   #               logicDetector,\n",
    "    #              \"SiPML\",\n",
    "    #              logicworld,        # its mother  volume\n",
    "    #              false,             # no boolean operation\n",
    "     #             0,                 # copy number\n",
    "     #             checkOverlaps)     # overlaps checking\n",
    "\n",
    "\n",
    "  # Visualization attributes              \n",
    "    SetVisAttributes(logicworld, G4VisAttributes!GetInvisible())\n",
    "    SetVisAttributes(logiccrst, G4VisAttributes(G4Colour(1.0, 1.0, 0.0)))\n",
    "    #SetVisAttributes(logicDetector,  G4VisAttributes(G4Colour(0.0, 0.0, 1.0)))\n",
    "                  \n",
    "    return physWorld              # return a pointer to the G4PhysicalVolume\n",
    "end\n",
    "\n",
    "\n"
   ]
  },
  {
   "cell_type": "code",
   "execution_count": 4,
   "id": "c9700461-f717-45a4-8130-d6e2b3167238",
   "metadata": {},
   "outputs": [],
   "source": [
    "Geant4.getConstructor(::CrstDetector)::Function = crstDetectorConstruction"
   ]
  },
  {
   "cell_type": "code",
   "execution_count": 5,
   "id": "1ba4e225-93d3-4620-8946-b70d5b73b1b3",
   "metadata": {},
   "outputs": [
    {
     "data": {
      "text/plain": [
       "G4JLGunGenerator(\"ParticleGun\", Geant4.G4JLParticleGunData(nothing, \"gamma\", G4ThreeVector(0.0,0.0,1.0), G4ThreeVector(0.0,0.0,0.0), 0.511), Geant4.var\"#init#23\"(), Geant4.var\"#gen#24\"(), G4JLGeneratorAction[])"
      ]
     },
     "execution_count": 5,
     "metadata": {},
     "output_type": "execute_result"
    }
   ],
   "source": [
    "particlegun = G4JLGunGenerator(particle = \"gamma\", \n",
    "                               energy = 511keV, \n",
    "                               direction = G4ThreeVector(0,0,1), \n",
    "                               position = G4ThreeVector(0,0,0))"
   ]
  },
  {
   "cell_type": "code",
   "execution_count": 6,
   "id": "bb3c6fbf-5912-412d-b873-705e8b1bbde8",
   "metadata": {},
   "outputs": [
    {
     "name": "stdout",
     "output_type": "stream",
     "text": [
      "\n",
      "**************************************************************\n",
      " Geant4 version Name: geant4-11-01-patch-01 [MT]   (10-February-2023)\n",
      "  << in Multi-threaded mode >> \n",
      "                       Copyright : Geant4 Collaboration\n",
      "                      References : NIM A 506 (2003), 250-303\n",
      "                                 : IEEE-TNS 53 (2006), 270-278\n",
      "                                 : NIM A 835 (2016), 186-225\n",
      "                             WWW : http://geant4.org/\n",
      "**************************************************************\n",
      "\n"
     ]
    },
    {
     "data": {
      "text/plain": [
       "G4JLApplication{CrstDetector, Geant4.G4JLNoData}(Geant4.G4MTRunManagerAllocated(Ptr{Nothing} @0x000000012ec2a200), CrstDetector(true, 3.5, 10.0, \"BGO\", CxxPtr{G4Material}(Ptr{G4Material} @0x000000013e60fe50), CxxPtr{G4Material}(Ptr{G4Material} @0x000000013e60e470)), [Geant4.G4JLNoData(), Geant4.G4JLNoData()], G4JLGunGenerator(\"ParticleGun\", Geant4.G4JLParticleGunData(nothing, \"gamma\", G4ThreeVector(0.0,0.0,1.0), G4ThreeVector(0.0,0.0,0.0), 0.511), Geant4.var\"#init#23\"(), Geant4.var\"#gen#24\"(), G4JLGeneratorAction[]), nothing, 1, 0, G4MTRunManager, G4JLDetectorConstruction, QBBC, G4JLRunAction, G4JLEventAction, G4JLTrackingAction, G4JLSteppingAction, nothing, nothing, nothing, nothing, nothing, nothing, nothing, Dict{String, Geant4.G4JLProtoSD}(), Dict{String, Vector{G4JLSensitiveDetector}}(), G4JLScoringMesh[], nothing, nothing)"
      ]
     },
     "execution_count": 6,
     "metadata": {},
     "output_type": "execute_result"
    }
   ],
   "source": [
    "app = G4JLApplication( detector = CrstDetector(checkOverlaps=true,\n",
    "                                   crstXY=3.5mm, crstZ=10.0mm, crstName=\"BGO\"), # detector with parameters\n",
    "                       generator = particlegun,                      # primary particle generator\n",
    "                       nthreads = 1,                                 # number of threads (MT)\n",
    "                       physics_type = QBBC,                     # what physics list to instantiate\n",
    "                      )"
   ]
  },
  {
   "cell_type": "code",
   "execution_count": 7,
   "id": "edfc95d2-262c-4c3f-a6bc-58b0718f9e1a",
   "metadata": {},
   "outputs": [],
   "source": [
    "configure(app)"
   ]
  },
  {
   "cell_type": "code",
   "execution_count": 8,
   "id": "71253081-c139-41a0-b783-bd6115ea649b",
   "metadata": {},
   "outputs": [
    {
     "name": "stdout",
     "output_type": "stream",
     "text": [
      "Checking overlaps for volume CRYSTAL:0 (G4Box) ... OK! \n"
     ]
    }
   ],
   "source": [
    "initialize(app)"
   ]
  },
  {
   "cell_type": "code",
   "execution_count": 9,
   "id": "2cb6896e-f10c-49ce-b86c-92794245fec1",
   "metadata": {},
   "outputs": [],
   "source": [
    "beamOn(app, 1)"
   ]
  },
  {
   "cell_type": "code",
   "execution_count": 10,
   "id": "07670c69-7833-4cda-9e7f-e1a12a42dfc9",
   "metadata": {},
   "outputs": [
    {
     "data": {
      "text/plain": [
       "Geant4.G4VPhysicalVolumeDereferenced(Ptr{Nothing} @0x0000600003854370)"
      ]
     },
     "execution_count": 10,
     "metadata": {},
     "output_type": "execute_result"
    }
   ],
   "source": [
    "world = GetWorldVolume()"
   ]
  },
  {
   "cell_type": "code",
   "execution_count": null,
   "id": "072fc100-b199-4fbc-b374-a14adf5517e5",
   "metadata": {},
   "outputs": [],
   "source": [
    "fig = Figure(resolution=(1024,1024))\n",
    "s = LScene(fig[1,1])\n",
    "Geant4.draw!(s, world)\n",
    "#for t in tracks\n",
    "#    lines!(t)\n",
    "#end\n",
    "display(fig)"
   ]
  },
  {
   "cell_type": "code",
   "execution_count": null,
   "id": "e862b840-3990-449d-a56e-b5bcd62ca23e",
   "metadata": {},
   "outputs": [],
   "source": []
  }
 ],
 "metadata": {
  "kernelspec": {
   "display_name": "Julia 1.9.3",
   "language": "julia",
   "name": "julia-1.9"
  },
  "language_info": {
   "file_extension": ".jl",
   "mimetype": "application/julia",
   "name": "julia",
   "version": "1.9.3"
  }
 },
 "nbformat": 4,
 "nbformat_minor": 5
}
